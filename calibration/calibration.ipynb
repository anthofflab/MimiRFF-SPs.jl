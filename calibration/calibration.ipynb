{
 "cells": [
  {
   "cell_type": "markdown",
   "metadata": {},
   "source": [
    "# Calibration\n",
    "\n",
    "This file will describe sources for the data in this repository, as well as any extra processing information."
   ]
  },
  {
   "cell_type": "markdown",
   "metadata": {},
   "source": [
    "## Emissions\n",
    "\n",
    "The processes for the emissions data can be found in the [RFF Socioeconomic Projections repository](https://github.com/rffscghg/rff-socioeconomic-projections).  Outputs from this repository are copied into _data/emissions_."
   ]
  },
  {
   "cell_type": "markdown",
   "metadata": {},
   "source": [
    "## Socioeconomic\n",
    "\n",
    "The processes for the socioeconomic data can be found in the [RFF Socioeconomic Projections repository](https://github.com/rffscghg/rff-socioeconomic-projections).  Outputs from this repository are copied into _data/socioeconomic_."
   ]
  },
  {
   "cell_type": "markdown",
   "metadata": {},
   "source": [
    "## Baseline Mortality\n",
    "\n",
    "In order to run some damage functions, users need baseline mortality data harmonized to a given population trajectory.  Baseline mortality data found in _data/mortality_ was derived from the _death_rates.csv_ provided to the RFF team on October 7th from Hana Sevcikova and available (privately) here: https://drive.google.com/open?id=1TCYgzRJyt-8wadRcCfxDdpqF84t6oZfj&authuser=hanas%40uw.edu&usp=drive_fs. Column `DeathRate` is the annual deaths per 1000 people. `PopAvg` is the denominator (average between two time periods) and `PopStart` is population at the start of the time interval. Values are average deaths per 1000 people. \n",
    "\n",
    "There is one mortality death rate trajectory for each population trajectory, and each RFF SP is matched to one of these 1000 trajectories. Post processing of _death_rates.csv_ into _TempMortality_cdr_rf_sp_TrajectoryX.csv_ is below."
   ]
  },
  {
   "cell_type": "code",
   "execution_count": null,
   "metadata": {},
   "outputs": [],
   "source": [
    "using DataFrames, Query, CSVFiles\n",
    "\n",
    "codes = load(joinpath(@__DIR__, \"..\", \"data\", \"keys\", \"NumericCodes_to_ISO3.csv\")) |> DataFrame \n",
    "\n",
    "# TODO upload this file in pieces, or upload to Zotero etc.\n",
    "df = load(\"death_rates.csv\") |> \n",
    "    DataFrame |> \n",
    "    @filter(_.LocID in codes.NumericCode) |>\n",
    "    @select(:LocID, :Year, :Trajectory, :DeathRate) |> \n",
    "    DataFrame\n",
    "\n",
    "# get ISO3 codes\n",
    "idxs = indexin(df.LocID, codes.NumericCode)\n",
    "insertcols!(df, 1, :ISO3 => codes.ISO3[idxs] \n",
    "select!(df, Not(:LocID))"
   ]
  }
 ],
 "metadata": {
  "kernelspec": {
   "display_name": "Julia 1.6.0",
   "language": "julia",
   "name": "julia-1.6"
  },
  "language_info": {
   "file_extension": ".jl",
   "mimetype": "application/julia",
   "name": "julia",
   "version": "1.6.0"
  },
  "orig_nbformat": 4
 },
 "nbformat": 4,
 "nbformat_minor": 2
}
